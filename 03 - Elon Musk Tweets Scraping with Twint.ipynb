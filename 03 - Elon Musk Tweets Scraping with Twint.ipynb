{
 "metadata": {
  "language_info": {
   "codemirror_mode": {
    "name": "ipython",
    "version": 3
   },
   "file_extension": ".py",
   "mimetype": "text/x-python",
   "name": "python",
   "nbconvert_exporter": "python",
   "pygments_lexer": "ipython3",
   "version": "3.7.6-final"
  },
  "orig_nbformat": 2,
  "kernelspec": {
   "name": "python3",
   "display_name": "Python 3",
   "language": "python"
  }
 },
 "nbformat": 4,
 "nbformat_minor": 2,
 "cells": [
  {
   "source": [
    "# CORE LIBRARY INSTALLATION"
   ],
   "cell_type": "markdown",
   "metadata": {}
  },
  {
   "cell_type": "code",
   "execution_count": null,
   "metadata": {},
   "outputs": [],
   "source": [
    "pip install twint"
   ]
  },
  {
   "cell_type": "code",
   "execution_count": null,
   "metadata": {},
   "outputs": [],
   "source": [
    "pip install nest_asyncio"
   ]
  },
  {
   "cell_type": "code",
   "execution_count": 2,
   "metadata": {},
   "outputs": [
    {
     "output_type": "stream",
     "name": "stdout",
     "text": [
      "Collecting twint\n",
      "  Cloning https://github.com/twintproject/twint.git (to revision origin/master) to c:\\users\\rizqie~1\\appdata\\local\\temp\\pip-install-68vvysbd\\twint\n",
      "Requirement already satisfied, skipping upgrade: aiohttp in c:\\programdata\\anaconda3\\lib\\site-packages (from twint) (3.7.4)\n",
      "Requirement already satisfied, skipping upgrade: aiodns in c:\\programdata\\anaconda3\\lib\\site-packages (from twint) (2.0.0)\n",
      "Requirement already satisfied, skipping upgrade: beautifulsoup4 in c:\\programdata\\anaconda3\\lib\\site-packages (from twint) (4.8.2)\n",
      "Requirement already satisfied, skipping upgrade: cchardet in c:\\programdata\\anaconda3\\lib\\site-packages (from twint) (2.1.7)\n",
      "Collecting dataclasses\n",
      "  Downloading dataclasses-0.6-py3-none-any.whl (14 kB)\n",
      "Requirement already satisfied, skipping upgrade: elasticsearch in c:\\programdata\\anaconda3\\lib\\site-packages (from twint) (7.11.0)\n",
      "Requirement already satisfied, skipping upgrade: pysocks in c:\\programdata\\anaconda3\\lib\\site-packages (from twint) (1.7.1)\n",
      "Requirement already satisfied, skipping upgrade: pandas in c:\\programdata\\anaconda3\\lib\\site-packages (from twint) (1.1.2)\n",
      "Requirement already satisfied, skipping upgrade: aiohttp_socks in c:\\programdata\\anaconda3\\lib\\site-packages (from twint) (0.5.5)\n",
      "Requirement already satisfied, skipping upgrade: schedule in c:\\programdata\\anaconda3\\lib\\site-packages (from twint) (1.0.0)\n",
      "Requirement already satisfied, skipping upgrade: geopy in c:\\programdata\\anaconda3\\lib\\site-packages (from twint) (2.1.0)\n",
      "Requirement already satisfied, skipping upgrade: fake-useragent in c:\\programdata\\anaconda3\\lib\\site-packages (from twint) (0.1.11)\n",
      "Requirement already satisfied, skipping upgrade: googletransx in c:\\programdata\\anaconda3\\lib\\site-packages (from twint) (2.4.2)\n",
      "Requirement already satisfied, skipping upgrade: chardet<4.0,>=2.0 in c:\\programdata\\anaconda3\\lib\\site-packages (from aiohttp->twint) (3.0.4)\n",
      "Requirement already satisfied, skipping upgrade: yarl<2.0,>=1.0 in c:\\programdata\\anaconda3\\lib\\site-packages (from aiohttp->twint) (1.6.3)\n",
      "Requirement already satisfied, skipping upgrade: attrs>=17.3.0 in c:\\programdata\\anaconda3\\lib\\site-packages (from aiohttp->twint) (19.3.0)\n",
      "Requirement already satisfied, skipping upgrade: typing-extensions>=3.6.5 in c:\\users\\rizqi eka maulana\\appdata\\roaming\\python\\python37\\site-packages (from aiohttp->twint) (3.7.4.3)\n",
      "Requirement already satisfied, skipping upgrade: multidict<7.0,>=4.5 in c:\\programdata\\anaconda3\\lib\\site-packages (from aiohttp->twint) (5.1.0)\n",
      "Requirement already satisfied, skipping upgrade: async-timeout<4.0,>=3.0 in c:\\programdata\\anaconda3\\lib\\site-packages (from aiohttp->twint) (3.0.1)\n",
      "Requirement already satisfied, skipping upgrade: pycares>=3.0.0 in c:\\programdata\\anaconda3\\lib\\site-packages (from aiodns->twint) (3.1.1)\n",
      "Requirement already satisfied, skipping upgrade: soupsieve>=1.2 in c:\\programdata\\anaconda3\\lib\\site-packages (from beautifulsoup4->twint) (1.9.5)\n",
      "Requirement already satisfied, skipping upgrade: urllib3<2,>=1.21.1 in c:\\programdata\\anaconda3\\lib\\site-packages (from elasticsearch->twint) (1.25.8)\n",
      "Requirement already satisfied, skipping upgrade: certifi in c:\\programdata\\anaconda3\\lib\\site-packages (from elasticsearch->twint) (2019.11.28)\n",
      "Requirement already satisfied, skipping upgrade: python-dateutil>=2.7.3 in c:\\programdata\\anaconda3\\lib\\site-packages (from pandas->twint) (2.8.1)\n",
      "Requirement already satisfied, skipping upgrade: pytz>=2017.2 in c:\\programdata\\anaconda3\\lib\\site-packages (from pandas->twint) (2019.3)\n",
      "Requirement already satisfied, skipping upgrade: numpy>=1.15.4 in c:\\programdata\\anaconda3\\lib\\site-packages (from pandas->twint) (1.18.5)\n",
      "Requirement already satisfied, skipping upgrade: python-socks[asyncio]>=1.0.1 in c:\\programdata\\anaconda3\\lib\\site-packages (from aiohttp_socks->twint) (1.2.1)\n",
      "Requirement already satisfied, skipping upgrade: geographiclib<2,>=1.49 in c:\\programdata\\anaconda3\\lib\\site-packages (from geopy->twint) (1.50)\n",
      "Requirement already satisfied, skipping upgrade: requests in c:\\programdata\\anaconda3\\lib\\site-packages (from googletransx->twint) (2.22.0)\n",
      "Requirement already satisfied, skipping upgrade: idna>=2.0 in c:\\programdata\\anaconda3\\lib\\site-packages (from yarl<2.0,>=1.0->aiohttp->twint) (2.8)\n",
      "Requirement already satisfied, skipping upgrade: cffi>=1.5.0 in c:\\programdata\\anaconda3\\lib\\site-packages (from pycares>=3.0.0->aiodns->twint) (1.14.0)\n",
      "Requirement already satisfied, skipping upgrade: six>=1.5 in c:\\programdata\\anaconda3\\lib\\site-packages (from python-dateutil>=2.7.3->pandas->twint) (1.14.0)\n",
      "Requirement already satisfied, skipping upgrade: pycparser in c:\\programdata\\anaconda3\\lib\\site-packages (from cffi>=1.5.0->pycares>=3.0.0->aiodns->twint) (2.19)\n",
      "Building wheels for collected packages: twint\n",
      "  Building wheel for twint (setup.py): started\n",
      "  Building wheel for twint (setup.py): finished with status 'done'\n",
      "  Created wheel for twint: filename=twint-2.1.21-py3-none-any.whl size=39038 sha256=b1682183126befca4b548938d5459a933df54652b27ab0f5b8d88f1a3f704918\n",
      "  Stored in directory: C:\\Users\\RIZQIE~1\\AppData\\Local\\Temp\\pip-ephem-wheel-cache-x59zbp4v\\wheels\\8d\\dc\\9f\\74b4483d5f997036f04aec7f42bd4b3c80f04264920c368068\n",
      "Successfully built twint\n",
      "Installing collected packages: dataclasses, twint\n",
      "Successfully installed dataclasses-0.6 twint-2.1.21\n",
      "Note: you may need to restart the kernel to use updated packages.\n",
      "  Running command git clone -q https://github.com/twintproject/twint.git 'C:\\Users\\RIZQIE~1\\AppData\\Local\\Temp\\pip-install-68vvysbd\\twint'\n",
      "  WARNING: Did not find branch or tag 'origin/master', assuming revision or ref.\n",
      "  Running command git checkout -q origin/master\n",
      "  WARNING: The script twint.exe is installed in 'C:\\Users\\Rizqi Eka Maulana\\AppData\\Roaming\\Python\\Python37\\Scripts' which is not on PATH.\n",
      "  Consider adding this directory to PATH or, if you prefer to suppress this warning, use --no-warn-script-location.\n"
     ]
    }
   ],
   "source": [
    "pip install --user --upgrade git+https://github.com/twintproject/twint.git@origin/master#egg=twint"
   ]
  },
  {
   "source": [
    "# MAIN CODE"
   ],
   "cell_type": "markdown",
   "metadata": {}
  },
  {
   "cell_type": "code",
   "execution_count": 1,
   "metadata": {},
   "outputs": [],
   "source": [
    "# Import Required Library\n",
    "\n",
    "import pandas as pd\n",
    "import twint\n",
    "\n",
    "# Import Required Library (for Jupyter Notebook)\n",
    "\n",
    "import nest_asyncio\n",
    "nest_asyncio.apply()"
   ]
  },
  {
   "cell_type": "code",
   "execution_count": 3,
   "metadata": {},
   "outputs": [
    {
     "output_type": "stream",
     "name": "stdout",
     "text": [
      "1365241433381339136 2021-02-26 17:04:57 +0700 <elonmusk>  https://t.co/jJeP4pFR6m\n1365237858165026818 2021-02-26 16:50:44 +0700 <elonmusk> Do androids dream of electric cars?\n1365226460244561920 2021-02-26 16:05:27 +0700 <elonmusk> @Sharvenium @flcnhvy 🤣🤣\n1365226011458174976 2021-02-26 16:03:40 +0700 <elonmusk> @flcnhvy  https://t.co/VfQ72XyaiH\n1365221598505091072 2021-02-26 15:46:08 +0700 <elonmusk> @konstructivizm Nothing if not discreet\n1365122612217712642 2021-02-26 09:12:48 +0700 <elonmusk> @konstructivizm Hey babe 😉\n1365061022084698118 2021-02-26 05:08:03 +0700 <elonmusk> 🙏  https://t.co/BBwnTndvoi\n1365056586096459786 2021-02-26 04:50:26 +0700 <elonmusk> @chicago_glenn @RationalEtienne @skorusARK We will use a catapult &amp; air mattresses to land on the roof, then base jump off\n1365055830085763081 2021-02-26 04:47:26 +0700 <elonmusk> @RationalEtienne @skorusARK Nickel is our biggest concern for scaling lithium-ion cell production. That’s why we are shifting standard range cars to an iron cathode. Plenty of iron (and lithium)!\n1365054971146829824 2021-02-26 04:44:01 +0700 <elonmusk> @harsimranbansal @skorusARK Absolutely\n1365053102794153987 2021-02-26 04:36:35 +0700 <elonmusk> @MemesOfMars @skorusARK Fremont shut down for two days (parts shortages) &amp; restarted yesterday\n1365052475934453760 2021-02-26 04:34:06 +0700 <elonmusk> @skorusARK This is not about winning anyone over. We are production-limited. The reason we are making our own cells is to *supplement* max production of suppliers. Even moving at full speed, they cannot build enough cells.\n1365045749407494146 2021-02-26 04:07:22 +0700 <elonmusk> @RationalEtienne I hope they do! It would be awesome 🤣🤣\n1365023164464582663 2021-02-26 02:37:37 +0700 <elonmusk> @Rjdlandscapes @Tesla Prices in the US (of all goods) don’t include VAT, but it’s usually included in other countries.   Then there’s import duty &amp; transport costs.  The intent is that revenue to Tesla is roughly similar in all countries, so taxes, tariffs &amp; transport make up the difference.\n1364907428060540935 2021-02-25 18:57:44 +0700 <elonmusk> @cleantechnica 3mm of full hard 301 or 304 Stainless is bulletproof to a 9mm or .45\n1364906065985499144 2021-02-25 18:52:19 +0700 <elonmusk> Not a meta4, I mean actual books\n1364897764556099585 2021-02-25 18:19:20 +0700 <elonmusk> @GJGunit Both\n1364895495764721667 2021-02-25 18:10:19 +0700 <elonmusk> I admit to judging books by their cover\n1364826301027115008 2021-02-25 13:35:22 +0700 <elonmusk> Starship to the moon  https://t.co/tVMJbBk3BU\n1364806444726448129 2021-02-25 12:16:27 +0700 <elonmusk> @johnkrausphotos Sounds like a good idea\n1364806085610147844 2021-02-25 12:15:02 +0700 <elonmusk> Out on launch pad, engine swap underway  https://t.co/QNXGtL90WN\n1364749052626231296 2021-02-25 08:28:24 +0700 <elonmusk> @teslaownersSV Probably mid year, but Starlink is really meant for those who are least served. Bay usually has great Internet.\n1364748430883631111 2021-02-25 08:25:56 +0700 <elonmusk> You might see much higher download speeds on Starlink at times. Testing system upgrades.\n1364707463510040586 2021-02-25 05:43:08 +0700 <elonmusk> @jeff_foust Rockets are ridiculously hard (sigh)\n1364564687396872193 2021-02-24 20:15:48 +0700 <elonmusk> @VitoTheGreat_ I love dogs &amp; memes\n1364563280522453005 2021-02-24 20:10:13 +0700 <elonmusk> On the actual moon\n1364560733472579591 2021-02-24 20:00:05 +0700 <elonmusk> Literally  https://t.co/XBAUqiVsPH\n1364528615354818562 2021-02-24 17:52:28 +0700 <elonmusk> @flcnhvy @HsueEugene @teslaownersSV @cleantechnica Potentially\n1364491362100477952 2021-02-24 15:24:26 +0700 <elonmusk> @TesLatino @teslaownersSV @cleantechnica Many steps forward, some steps back. Yes, we do a lot of QA before releasing a beta version.\n1364488368994848769 2021-02-24 15:12:32 +0700 <elonmusk> @_kenh @tobyliiiiiiiiii @Erdayastronaut @ErcXspace They will fly there from our launch site.   Stationed around the world.\n1364481755873488896 2021-02-24 14:46:16 +0700 <elonmusk> @HsueEugene @teslaownersSV @cleantechnica Seems likely\n1364480679019429888 2021-02-24 14:41:59 +0700 <elonmusk> @teslaownersSV @cleantechnica We’re upgrading all NNs to surround video, using subnets on focal areas (vs equal compute on all uncropped pixels) &amp; many other things, so more time needed to write &amp; validate software. Maybe something next week.  This is evolving into solving a big part of physical world AI.\n1364476710255796224 2021-02-24 14:26:13 +0700 <elonmusk> @cleantechnica Interesting\n1364476185359642626 2021-02-24 14:24:07 +0700 <elonmusk> @tobyliiiiiiiiii @Erdayastronaut @ErcXspace One of them may be in limited operation by end of year\n1364473175279620096 2021-02-24 14:12:10 +0700 <elonmusk> @TheFavoritist @NASASpaceflight @BocaChicaGal One of the engines is suspect, so we’re swapping it out\n1364470475620044802 2021-02-24 14:01:26 +0700 <elonmusk> @Erdayastronaut @ErcXspace Short-term, CH4 delivered &amp; O2 produced. Propellant is ~78% O2. Long-term, Sabatier reaction to convert CO2 + H2O -&gt; CH4 + O2 using wind &amp; solar power.\n1364181763770052611 2021-02-23 18:54:12 +0700 <elonmusk> @AskDrStupid Just a Surface Detail\n1364181510295744514 2021-02-23 18:53:11 +0700 <elonmusk> @ErcXspace I hope we don’t go bankrupt building them!\n1364180853866131456 2021-02-23 18:50:35 +0700 <elonmusk> Excession\n1364164653023076353 2021-02-23 17:46:12 +0700 <elonmusk> @mimimusics 🔥🔥\n1364128031434887170 2021-02-23 15:20:41 +0700 <elonmusk> @PeterSchiff 🍆\n1364127406689193986 2021-02-23 15:18:12 +0700 <elonmusk> @PPathole Super cool\n1363993259756945410 2021-02-23 06:25:09 +0700 <elonmusk> @jgrano305 @AustinTeslaClub We have too much product complexity already\n1363947211277496320 2021-02-23 03:22:10 +0700 <elonmusk> @TechAmazing @UniverCurious Tunnels!!\n1363946979005399040 2021-02-23 03:21:15 +0700 <elonmusk> @JantieWillie @Adamklotz_ @AustinTeslaClub Hopefully, later this year\n1363946926983405573 2021-02-23 03:21:02 +0700 <elonmusk> @Adamklotz_ @AustinTeslaClub Later this year\n1363946797945679875 2021-02-23 03:20:32 +0700 <elonmusk> @jgrano305 @AustinTeslaClub It is still available off menu, but I don’t think the range, in many drive conditions, yet meets the Tesla standard of excellence\n1363944709501067264 2021-02-23 03:12:14 +0700 <elonmusk> @AustinTeslaClub The Tesla Solar Roof is slightly hydrophobic, so water, snow or ice slide off easily\n1363783322770448386 2021-02-22 16:30:56 +0700 <elonmusk> @teslaownersSV Final design is looking👌 Was just in the studio\n1363774017606348802 2021-02-22 15:53:58 +0700 <elonmusk> @eugenelee3 @SpaceXFan97 Most of Earth by end of year, all by next year, then it’s about densifying coverage.   Important to note that cellular will always have the advantage in dense urban areas.   Satellites are best for low to medium population density areas.\n1363763858121256963 2021-02-22 15:13:35 +0700 <elonmusk> @SpaceXFan97 Speed will double to ~300Mb/s &amp; latency will drop to ~20ms later this year\n1363627518830338051 2021-02-22 06:11:50 +0700 <elonmusk> Of spaceflight\n1363609428281360386 2021-02-22 04:59:56 +0700 <elonmusk> Hypernominalization\n1363601164344823810 2021-02-22 04:27:06 +0700 <elonmusk> Dojo 4 Doge\n1363600651712794624 2021-02-22 04:25:04 +0700 <elonmusk> @BocaChicaGal @NASASpaceflight Good chance of flying this week!\n1363476143735595014 2021-02-21 20:10:19 +0700 <elonmusk> @PPathole Should we?\n1363476057169432579 2021-02-21 20:09:58 +0700 <elonmusk> @RationalEtienne 🤣🤣\n1363295255676653576 2021-02-21 08:11:32 +0700 <elonmusk> @TheBabylonBee Why don’t we have these already!?\n1363272961684201472 2021-02-21 06:42:57 +0700 <elonmusk> Cryptocurrency explained  https://t.co/kUXaXx8a1R\n1363233627601989633 2021-02-21 04:06:39 +0700 <elonmusk> Or did they say pegged to the dollar? Something like that …\n1363230177002622976 2021-02-21 03:52:56 +0700 <elonmusk> Heard a rumor some crypto coin was pegging the dollar 🤣🤣\n1363226736708608003 2021-02-21 03:39:16 +0700 <elonmusk> @MIT_CSAIL Machine learning is so amaze!\n1363067491673468932 2021-02-20 17:06:29 +0700 <elonmusk> @PPathole @dogecoin Just some used Antminer L3+ rigs bought off eBay. Not really economic, but it was a fun family project.\n1363054845976961029 2021-02-20 16:16:14 +0700 <elonmusk> @WholeMarsBlog Most people have no idea, even though there are so many FSD progress videos posted. Munro understood right away.   There will be a gap before the next release, but then it will be a step change better.  Tesla is solving a major real-world AI problem.\n1363046350900785156 2021-02-20 15:42:28 +0700 <elonmusk> @dogecoin I just set up some little Doge mining rigs with my kids. It was fun.\n1363043511507898368 2021-02-20 15:31:11 +0700 <elonmusk> @redditSpacePorn 🤣🤣\n1363021091086561285 2021-02-20 14:02:06 +0700 <elonmusk> @PeterSchiff That said, BTC &amp; ETH do seem high lol\n1363007438455074825 2021-02-20 13:07:51 +0700 <elonmusk> @PeterSchiff An email saying you have gold is not the same as having gold. You might as well have crypto.  Money is just data that allows us to avoid the inconvenience of barter.  That data, like all data, is subject to latency &amp; error. The system will evolve to that which minimizes both.\n1362891594400104451 2021-02-20 05:27:32 +0700 <elonmusk> @chicago_glenn @archillect 🤣🤣\n1362891010460778497 2021-02-20 05:25:12 +0700 <elonmusk> @archillect Avocado Toast\n1362871307516452865 2021-02-20 04:06:55 +0700 <elonmusk> I just want to start a flame in your heart\n1362863263982247940 2021-02-20 03:34:57 +0700 <elonmusk> Just for a day\n1362726185931857925 2021-02-19 18:30:15 +0700 <elonmusk> @NASA Congratulations!!\n1362722649777045508 2021-02-19 18:16:12 +0700 <elonmusk> @YourLordThanos @Waymo 🔥🔥\n1362618106984693762 2021-02-19 11:20:47 +0700 <elonmusk> @realfuckingnews @business Somehow, a hash text file using ancient crypto can be exchanged for real goods &amp; services!? Amazing.\n1362600676174557186 2021-02-19 10:11:31 +0700 <elonmusk> @business To be clear, I am *not* an investor, I am an engineer. I don’t even own any publicly traded stock besides Tesla.   However, when fiat currency has negative real interest, only a fool wouldn’t look elsewhere.   Bitcoin is almost as bs as fiat money. The key word is “almost”.\n1362598034866118658 2021-02-19 10:01:02 +0700 <elonmusk> @business Tesla’s action is not directly reflective of my opinion. Having some Bitcoin, which is simply a less dumb form of liquidity than cash, is adventurous enough for an S&amp;P500 company.\n1362549876706410500 2021-02-19 06:49:40 +0700 <elonmusk> @Teslarati SpaceX in south Texas &amp; Tesla in central have been providing direct assistance where feasible (eg save cold turtles &amp; help power the water treatment plant). Please let us know if we may be helpful in other ways.\n1362279856902438916 2021-02-18 12:56:42 +0700 <elonmusk> @someone3201 @ERCOT_ISO Yes\n1361962505573031938 2021-02-17 15:55:40 +0700 <elonmusk> .@ERCOT_ISO is not earning that R\n1361901255472205825 2021-02-17 11:52:16 +0700 <elonmusk> @MattWallace888 @vladtenev @RobinhoodApp You’re right\n1361711665864130563 2021-02-16 23:18:55 +0700 <elonmusk> @Tesla Covered in snow &amp; ice, roads mostly closed &amp; no power in Austin\n1361709250561642498 2021-02-16 23:09:19 +0700 <elonmusk> @cz_binance @MansourShahrokh There will definitely be a MarsCoin!\n1361708249226084352 2021-02-16 23:05:20 +0700 <elonmusk> @itsALLrisky Sounds like it is\n1361544540411355137 2021-02-16 12:14:49 +0700 <elonmusk> @BrennanChant @SpaceX Yeah. Active fairing half recovered though.\n1361532017679233024 2021-02-16 11:25:03 +0700 <elonmusk> @rockstardenied @SpaceX SpaceX Boca team is helping save the turtles\n1361506299901575169 2021-02-16 09:42:52 +0700 <elonmusk> @MrotondiMy @ogeNews1 @ShaunStoffer ~5%\n1361505519530344453 2021-02-16 09:39:46 +0700 <elonmusk> @ogeNews1 @ShaunStoffer Disturbing concentration\n1361262357205442562 2021-02-15 17:33:31 +0700 <elonmusk> @MansourShahrokh Only if necessary\n1361256069583024128 2021-02-15 17:08:32 +0700 <elonmusk> @itsALLrisky Absolutely\n1361255427669909504 2021-02-15 17:05:59 +0700 <elonmusk> I will literally pay actual $ if they just void their accounts\n1361252063926251521 2021-02-15 16:52:37 +0700 <elonmusk>  https://t.co/w11m1IAG0z\n1361121490628968453 2021-02-15 08:13:46 +0700 <elonmusk> @itsALLrisky Yup\n1361120963807612931 2021-02-15 08:11:40 +0700 <elonmusk> @JaneidyEve Temporarily lower, long-term raise\n1361096223428653056 2021-02-15 06:33:22 +0700 <elonmusk> @RationalEtienne An acceptable percentage. Doge is much more concentrated.\n1361094185412100096 2021-02-15 06:25:16 +0700 <elonmusk> If major Dogecoin holders sell most of their coins, it will get my full support. Too much concentration is the only real issue imo.\n1360774866023112704 2021-02-14 09:16:24 +0700 <elonmusk> @MarcusHouseGame Success on landing probability is ~60% this time\n1360700181658886147 2021-02-14 04:19:38 +0700 <elonmusk> было бы большой честью поговорить с вами\n1360697159767711749 2021-02-14 04:07:38 +0700 <elonmusk> .@KremlinRussia_E would you like join me for a conversation on Clubhouse?\n1360592735409946625 2021-02-13 21:12:41 +0700 <elonmusk> Lil meme juice for the weekend  https://t.co/e9rVtk4SEe\n"
     ]
    }
   ],
   "source": [
    "# Scraping Elon Musk Tweet in February 2021\n",
    "\n",
    "c = twint.Config()\n",
    "c.Username = \"elonmusk\"\n",
    "c.Limit = 20\n",
    "c.Since = \"2021-02-01\"\n",
    "\n",
    "twint.run.Search(c)"
   ]
  },
  {
   "cell_type": "code",
   "execution_count": 4,
   "metadata": {},
   "outputs": [
    {
     "output_type": "stream",
     "name": "stdout",
     "text": [
      "1365241433381339136 2021-02-26 17:04:57 +0700 <elonmusk>  https://t.co/jJeP4pFR6m\n1365237858165026818 2021-02-26 16:50:44 +0700 <elonmusk> Do androids dream of electric cars?\n1365226460244561920 2021-02-26 16:05:27 +0700 <elonmusk> @Sharvenium @flcnhvy 🤣🤣\n1365226011458174976 2021-02-26 16:03:40 +0700 <elonmusk> @flcnhvy  https://t.co/VfQ72XyaiH\n1365221598505091072 2021-02-26 15:46:08 +0700 <elonmusk> @konstructivizm Nothing if not discreet\n1365122612217712642 2021-02-26 09:12:48 +0700 <elonmusk> @konstructivizm Hey babe 😉\n1365061022084698118 2021-02-26 05:08:03 +0700 <elonmusk> 🙏  https://t.co/BBwnTndvoi\n1365056586096459786 2021-02-26 04:50:26 +0700 <elonmusk> @chicago_glenn @RationalEtienne @skorusARK We will use a catapult &amp; air mattresses to land on the roof, then base jump off\n1365055830085763081 2021-02-26 04:47:26 +0700 <elonmusk> @RationalEtienne @skorusARK Nickel is our biggest concern for scaling lithium-ion cell production. That’s why we are shifting standard range cars to an iron cathode. Plenty of iron (and lithium)!\n1365054971146829824 2021-02-26 04:44:01 +0700 <elonmusk> @harsimranbansal @skorusARK Absolutely\n1365053102794153987 2021-02-26 04:36:35 +0700 <elonmusk> @MemesOfMars @skorusARK Fremont shut down for two days (parts shortages) &amp; restarted yesterday\n1365052475934453760 2021-02-26 04:34:06 +0700 <elonmusk> @skorusARK This is not about winning anyone over. We are production-limited. The reason we are making our own cells is to *supplement* max production of suppliers. Even moving at full speed, they cannot build enough cells.\n1365045749407494146 2021-02-26 04:07:22 +0700 <elonmusk> @RationalEtienne I hope they do! It would be awesome 🤣🤣\n1365023164464582663 2021-02-26 02:37:37 +0700 <elonmusk> @Rjdlandscapes @Tesla Prices in the US (of all goods) don’t include VAT, but it’s usually included in other countries.   Then there’s import duty &amp; transport costs.  The intent is that revenue to Tesla is roughly similar in all countries, so taxes, tariffs &amp; transport make up the difference.\n1364907428060540935 2021-02-25 18:57:44 +0700 <elonmusk> @cleantechnica 3mm of full hard 301 or 304 Stainless is bulletproof to a 9mm or .45\n1364906065985499144 2021-02-25 18:52:19 +0700 <elonmusk> Not a meta4, I mean actual books\n1364897764556099585 2021-02-25 18:19:20 +0700 <elonmusk> @GJGunit Both\n1364895495764721667 2021-02-25 18:10:19 +0700 <elonmusk> I admit to judging books by their cover\n1364826301027115008 2021-02-25 13:35:22 +0700 <elonmusk> Starship to the moon  https://t.co/tVMJbBk3BU\n1364806444726448129 2021-02-25 12:16:27 +0700 <elonmusk> @johnkrausphotos Sounds like a good idea\n1364806085610147844 2021-02-25 12:15:02 +0700 <elonmusk> Out on launch pad, engine swap underway  https://t.co/QNXGtL90WN\n1364749052626231296 2021-02-25 08:28:24 +0700 <elonmusk> @teslaownersSV Probably mid year, but Starlink is really meant for those who are least served. Bay usually has great Internet.\n1364748430883631111 2021-02-25 08:25:56 +0700 <elonmusk> You might see much higher download speeds on Starlink at times. Testing system upgrades.\n1364707463510040586 2021-02-25 05:43:08 +0700 <elonmusk> @jeff_foust Rockets are ridiculously hard (sigh)\n1364564687396872193 2021-02-24 20:15:48 +0700 <elonmusk> @VitoTheGreat_ I love dogs &amp; memes\n1364563280522453005 2021-02-24 20:10:13 +0700 <elonmusk> On the actual moon\n1364560733472579591 2021-02-24 20:00:05 +0700 <elonmusk> Literally  https://t.co/XBAUqiVsPH\n1364528615354818562 2021-02-24 17:52:28 +0700 <elonmusk> @flcnhvy @HsueEugene @teslaownersSV @cleantechnica Potentially\n1364491362100477952 2021-02-24 15:24:26 +0700 <elonmusk> @TesLatino @teslaownersSV @cleantechnica Many steps forward, some steps back. Yes, we do a lot of QA before releasing a beta version.\n1364488368994848769 2021-02-24 15:12:32 +0700 <elonmusk> @_kenh @tobyliiiiiiiiii @Erdayastronaut @ErcXspace They will fly there from our launch site.   Stationed around the world.\n1364481755873488896 2021-02-24 14:46:16 +0700 <elonmusk> @HsueEugene @teslaownersSV @cleantechnica Seems likely\n1364480679019429888 2021-02-24 14:41:59 +0700 <elonmusk> @teslaownersSV @cleantechnica We’re upgrading all NNs to surround video, using subnets on focal areas (vs equal compute on all uncropped pixels) &amp; many other things, so more time needed to write &amp; validate software. Maybe something next week.  This is evolving into solving a big part of physical world AI.\n1364476710255796224 2021-02-24 14:26:13 +0700 <elonmusk> @cleantechnica Interesting\n1364476185359642626 2021-02-24 14:24:07 +0700 <elonmusk> @tobyliiiiiiiiii @Erdayastronaut @ErcXspace One of them may be in limited operation by end of year\n1364473175279620096 2021-02-24 14:12:10 +0700 <elonmusk> @TheFavoritist @NASASpaceflight @BocaChicaGal One of the engines is suspect, so we’re swapping it out\n1364470475620044802 2021-02-24 14:01:26 +0700 <elonmusk> @Erdayastronaut @ErcXspace Short-term, CH4 delivered &amp; O2 produced. Propellant is ~78% O2. Long-term, Sabatier reaction to convert CO2 + H2O -&gt; CH4 + O2 using wind &amp; solar power.\n1364181763770052611 2021-02-23 18:54:12 +0700 <elonmusk> @AskDrStupid Just a Surface Detail\n1364181510295744514 2021-02-23 18:53:11 +0700 <elonmusk> @ErcXspace I hope we don’t go bankrupt building them!\n1364180853866131456 2021-02-23 18:50:35 +0700 <elonmusk> Excession\n1364164653023076353 2021-02-23 17:46:12 +0700 <elonmusk> @mimimusics 🔥🔥\n1364128031434887170 2021-02-23 15:20:41 +0700 <elonmusk> @PeterSchiff 🍆\n1364127406689193986 2021-02-23 15:18:12 +0700 <elonmusk> @PPathole Super cool\n1363993259756945410 2021-02-23 06:25:09 +0700 <elonmusk> @jgrano305 @AustinTeslaClub We have too much product complexity already\n1363947211277496320 2021-02-23 03:22:10 +0700 <elonmusk> @TechAmazing @UniverCurious Tunnels!!\n1363946979005399040 2021-02-23 03:21:15 +0700 <elonmusk> @JantieWillie @Adamklotz_ @AustinTeslaClub Hopefully, later this year\n1363946926983405573 2021-02-23 03:21:02 +0700 <elonmusk> @Adamklotz_ @AustinTeslaClub Later this year\n1363946797945679875 2021-02-23 03:20:32 +0700 <elonmusk> @jgrano305 @AustinTeslaClub It is still available off menu, but I don’t think the range, in many drive conditions, yet meets the Tesla standard of excellence\n1363944709501067264 2021-02-23 03:12:14 +0700 <elonmusk> @AustinTeslaClub The Tesla Solar Roof is slightly hydrophobic, so water, snow or ice slide off easily\n1363783322770448386 2021-02-22 16:30:56 +0700 <elonmusk> @teslaownersSV Final design is looking👌 Was just in the studio\n1363774017606348802 2021-02-22 15:53:58 +0700 <elonmusk> @eugenelee3 @SpaceXFan97 Most of Earth by end of year, all by next year, then it’s about densifying coverage.   Important to note that cellular will always have the advantage in dense urban areas.   Satellites are best for low to medium population density areas.\n1363763858121256963 2021-02-22 15:13:35 +0700 <elonmusk> @SpaceXFan97 Speed will double to ~300Mb/s &amp; latency will drop to ~20ms later this year\n1363627518830338051 2021-02-22 06:11:50 +0700 <elonmusk> Of spaceflight\n1363609428281360386 2021-02-22 04:59:56 +0700 <elonmusk> Hypernominalization\n1363601164344823810 2021-02-22 04:27:06 +0700 <elonmusk> Dojo 4 Doge\n1363600651712794624 2021-02-22 04:25:04 +0700 <elonmusk> @BocaChicaGal @NASASpaceflight Good chance of flying this week!\n1363476143735595014 2021-02-21 20:10:19 +0700 <elonmusk> @PPathole Should we?\n1363476057169432579 2021-02-21 20:09:58 +0700 <elonmusk> @RationalEtienne 🤣🤣\n1363295255676653576 2021-02-21 08:11:32 +0700 <elonmusk> @TheBabylonBee Why don’t we have these already!?\n1363272961684201472 2021-02-21 06:42:57 +0700 <elonmusk> Cryptocurrency explained  https://t.co/kUXaXx8a1R\n1363233627601989633 2021-02-21 04:06:39 +0700 <elonmusk> Or did they say pegged to the dollar? Something like that …\n1363230177002622976 2021-02-21 03:52:56 +0700 <elonmusk> Heard a rumor some crypto coin was pegging the dollar 🤣🤣\n1363226736708608003 2021-02-21 03:39:16 +0700 <elonmusk> @MIT_CSAIL Machine learning is so amaze!\n1363067491673468932 2021-02-20 17:06:29 +0700 <elonmusk> @PPathole @dogecoin Just some used Antminer L3+ rigs bought off eBay. Not really economic, but it was a fun family project.\n1363054845976961029 2021-02-20 16:16:14 +0700 <elonmusk> @WholeMarsBlog Most people have no idea, even though there are so many FSD progress videos posted. Munro understood right away.   There will be a gap before the next release, but then it will be a step change better.  Tesla is solving a major real-world AI problem.\n1363046350900785156 2021-02-20 15:42:28 +0700 <elonmusk> @dogecoin I just set up some little Doge mining rigs with my kids. It was fun.\n1363043511507898368 2021-02-20 15:31:11 +0700 <elonmusk> @redditSpacePorn 🤣🤣\n1363021091086561285 2021-02-20 14:02:06 +0700 <elonmusk> @PeterSchiff That said, BTC &amp; ETH do seem high lol\n1363007438455074825 2021-02-20 13:07:51 +0700 <elonmusk> @PeterSchiff An email saying you have gold is not the same as having gold. You might as well have crypto.  Money is just data that allows us to avoid the inconvenience of barter.  That data, like all data, is subject to latency &amp; error. The system will evolve to that which minimizes both.\n1362891594400104451 2021-02-20 05:27:32 +0700 <elonmusk> @chicago_glenn @archillect 🤣🤣\n1362891010460778497 2021-02-20 05:25:12 +0700 <elonmusk> @archillect Avocado Toast\n1362871307516452865 2021-02-20 04:06:55 +0700 <elonmusk> I just want to start a flame in your heart\n1362863263982247940 2021-02-20 03:34:57 +0700 <elonmusk> Just for a day\n1362726185931857925 2021-02-19 18:30:15 +0700 <elonmusk> @NASA Congratulations!!\n1362722649777045508 2021-02-19 18:16:12 +0700 <elonmusk> @YourLordThanos @Waymo 🔥🔥\n1362618106984693762 2021-02-19 11:20:47 +0700 <elonmusk> @realfuckingnews @business Somehow, a hash text file using ancient crypto can be exchanged for real goods &amp; services!? Amazing.\n1362600676174557186 2021-02-19 10:11:31 +0700 <elonmusk> @business To be clear, I am *not* an investor, I am an engineer. I don’t even own any publicly traded stock besides Tesla.   However, when fiat currency has negative real interest, only a fool wouldn’t look elsewhere.   Bitcoin is almost as bs as fiat money. The key word is “almost”.\n1362598034866118658 2021-02-19 10:01:02 +0700 <elonmusk> @business Tesla’s action is not directly reflective of my opinion. Having some Bitcoin, which is simply a less dumb form of liquidity than cash, is adventurous enough for an S&amp;P500 company.\n1362549876706410500 2021-02-19 06:49:40 +0700 <elonmusk> @Teslarati SpaceX in south Texas &amp; Tesla in central have been providing direct assistance where feasible (eg save cold turtles &amp; help power the water treatment plant). Please let us know if we may be helpful in other ways.\n1362279856902438916 2021-02-18 12:56:42 +0700 <elonmusk> @someone3201 @ERCOT_ISO Yes\n1361962505573031938 2021-02-17 15:55:40 +0700 <elonmusk> .@ERCOT_ISO is not earning that R\n1361901255472205825 2021-02-17 11:52:16 +0700 <elonmusk> @MattWallace888 @vladtenev @RobinhoodApp You’re right\n1361711665864130563 2021-02-16 23:18:55 +0700 <elonmusk> @Tesla Covered in snow &amp; ice, roads mostly closed &amp; no power in Austin\n1361709250561642498 2021-02-16 23:09:19 +0700 <elonmusk> @cz_binance @MansourShahrokh There will definitely be a MarsCoin!\n1361708249226084352 2021-02-16 23:05:20 +0700 <elonmusk> @itsALLrisky Sounds like it is\n1361544540411355137 2021-02-16 12:14:49 +0700 <elonmusk> @BrennanChant @SpaceX Yeah. Active fairing half recovered though.\n1361532017679233024 2021-02-16 11:25:03 +0700 <elonmusk> @rockstardenied @SpaceX SpaceX Boca team is helping save the turtles\n1361506299901575169 2021-02-16 09:42:52 +0700 <elonmusk> @MrotondiMy @ogeNews1 @ShaunStoffer ~5%\n1361505519530344453 2021-02-16 09:39:46 +0700 <elonmusk> @ogeNews1 @ShaunStoffer Disturbing concentration\n1361262357205442562 2021-02-15 17:33:31 +0700 <elonmusk> @MansourShahrokh Only if necessary\n1361256069583024128 2021-02-15 17:08:32 +0700 <elonmusk> @itsALLrisky Absolutely\n1361255427669909504 2021-02-15 17:05:59 +0700 <elonmusk> I will literally pay actual $ if they just void their accounts\n1361252063926251521 2021-02-15 16:52:37 +0700 <elonmusk>  https://t.co/w11m1IAG0z\n1361121490628968453 2021-02-15 08:13:46 +0700 <elonmusk> @itsALLrisky Yup\n1361120963807612931 2021-02-15 08:11:40 +0700 <elonmusk> @JaneidyEve Temporarily lower, long-term raise\n1361096223428653056 2021-02-15 06:33:22 +0700 <elonmusk> @RationalEtienne An acceptable percentage. Doge is much more concentrated.\n1361094185412100096 2021-02-15 06:25:16 +0700 <elonmusk> If major Dogecoin holders sell most of their coins, it will get my full support. Too much concentration is the only real issue imo.\n1360774866023112704 2021-02-14 09:16:24 +0700 <elonmusk> @MarcusHouseGame Success on landing probability is ~60% this time\n1360700181658886147 2021-02-14 04:19:38 +0700 <elonmusk> было бы большой честью поговорить с вами\n1360697159767711749 2021-02-14 04:07:38 +0700 <elonmusk> .@KremlinRussia_E would you like join me for a conversation on Clubhouse?\n1360592735409946625 2021-02-13 21:12:41 +0700 <elonmusk> Lil meme juice for the weekend  https://t.co/e9rVtk4SEe\n"
     ]
    }
   ],
   "source": [
    "# Scraping Elon Musk Tweet in February 2021, then store it in Panda DataFrame\n",
    "\n",
    "c = twint.Config()\n",
    "c.Username = \"elonmusk\"\n",
    "c.Limit = 100\n",
    "c.Since = \"2021-02-01\"\n",
    "c.Pandas = True\n",
    "\n",
    "twint.run.Search(c)"
   ]
  },
  {
   "cell_type": "code",
   "execution_count": 5,
   "metadata": {},
   "outputs": [],
   "source": [
    "df = twint.storage.panda.Tweets_df"
   ]
  },
  {
   "cell_type": "code",
   "execution_count": 6,
   "metadata": {},
   "outputs": [
    {
     "output_type": "stream",
     "name": "stdout",
     "text": [
      "<class 'pandas.core.frame.DataFrame'>\nRangeIndex: 100 entries, 0 to 99\nData columns (total 38 columns):\n #   Column           Non-Null Count  Dtype  \n---  ------           --------------  -----  \n 0   id               100 non-null    object \n 1   conversation_id  100 non-null    object \n 2   created_at       100 non-null    float64\n 3   date             100 non-null    object \n 4   timezone         100 non-null    object \n 5   place            100 non-null    object \n 6   tweet            100 non-null    object \n 7   language         100 non-null    object \n 8   hashtags         100 non-null    object \n 9   cashtags         100 non-null    object \n 10  user_id          100 non-null    int64  \n 11  user_id_str      100 non-null    object \n 12  username         100 non-null    object \n 13  name             100 non-null    object \n 14  day              100 non-null    int64  \n 15  hour             100 non-null    object \n 16  link             100 non-null    object \n 17  urls             100 non-null    object \n 18  photos           100 non-null    object \n 19  video            100 non-null    int64  \n 20  thumbnail        100 non-null    object \n 21  retweet          100 non-null    bool   \n 22  nlikes           100 non-null    int64  \n 23  nreplies         100 non-null    int64  \n 24  nretweets        100 non-null    int64  \n 25  quote_url        100 non-null    object \n 26  search           100 non-null    object \n 27  near             100 non-null    object \n 28  geo              100 non-null    object \n 29  source           100 non-null    object \n 30  user_rt_id       100 non-null    object \n 31  user_rt          100 non-null    object \n 32  retweet_id       100 non-null    object \n 33  reply_to         100 non-null    object \n 34  retweet_date     100 non-null    object \n 35  translate        100 non-null    object \n 36  trans_src        100 non-null    object \n 37  trans_dest       100 non-null    object \ndtypes: bool(1), float64(1), int64(6), object(30)\nmemory usage: 29.1+ KB\n"
     ]
    }
   ],
   "source": [
    "df.info()"
   ]
  },
  {
   "cell_type": "code",
   "execution_count": 7,
   "metadata": {},
   "outputs": [
    {
     "output_type": "execute_result",
     "data": {
      "text/plain": [
       "                    id      conversation_id    created_at  \\\n",
       "0  1365241433381339136  1365237858165026818  1.614334e+12   \n",
       "1  1365237858165026818  1365237858165026818  1.614333e+12   \n",
       "2  1365226460244561920  1364895495764721667  1.614330e+12   \n",
       "3  1365226011458174976  1364895495764721667  1.614330e+12   \n",
       "4  1365221598505091072  1364950780424388616  1.614329e+12   \n",
       "\n",
       "                  date timezone place  \\\n",
       "0  2021-02-26 17:04:57    +0700         \n",
       "1  2021-02-26 16:50:44    +0700         \n",
       "2  2021-02-26 16:05:27    +0700         \n",
       "3  2021-02-26 16:03:40    +0700         \n",
       "4  2021-02-26 15:46:08    +0700         \n",
       "\n",
       "                                     tweet language hashtags cashtags  ...  \\\n",
       "0                  https://t.co/jJeP4pFR6m      und       []       []  ...   \n",
       "1      Do androids dream of electric cars?       en       []       []  ...   \n",
       "2                  @Sharvenium @flcnhvy 🤣🤣      und       []       []  ...   \n",
       "3        @flcnhvy  https://t.co/VfQ72XyaiH      und       []       []  ...   \n",
       "4  @konstructivizm Nothing if not discreet       en       []       []  ...   \n",
       "\n",
       "   geo source user_rt_id user_rt  retweet_id  \\\n",
       "0                                              \n",
       "1                                              \n",
       "2                                              \n",
       "3                                              \n",
       "4                                              \n",
       "\n",
       "                                            reply_to retweet_date translate  \\\n",
       "0                                                 []                          \n",
       "1                                                 []                          \n",
       "2  [{'screen_name': 'Sharvenium', 'name': 'Sharve...                          \n",
       "3                                                 []                          \n",
       "4  [{'screen_name': 'konstructivizm', 'name': 'Bl...                          \n",
       "\n",
       "  trans_src  trans_dest  \n",
       "0                        \n",
       "1                        \n",
       "2                        \n",
       "3                        \n",
       "4                        \n",
       "\n",
       "[5 rows x 38 columns]"
      ],
      "text/html": "<div>\n<style scoped>\n    .dataframe tbody tr th:only-of-type {\n        vertical-align: middle;\n    }\n\n    .dataframe tbody tr th {\n        vertical-align: top;\n    }\n\n    .dataframe thead th {\n        text-align: right;\n    }\n</style>\n<table border=\"1\" class=\"dataframe\">\n  <thead>\n    <tr style=\"text-align: right;\">\n      <th></th>\n      <th>id</th>\n      <th>conversation_id</th>\n      <th>created_at</th>\n      <th>date</th>\n      <th>timezone</th>\n      <th>place</th>\n      <th>tweet</th>\n      <th>language</th>\n      <th>hashtags</th>\n      <th>cashtags</th>\n      <th>...</th>\n      <th>geo</th>\n      <th>source</th>\n      <th>user_rt_id</th>\n      <th>user_rt</th>\n      <th>retweet_id</th>\n      <th>reply_to</th>\n      <th>retweet_date</th>\n      <th>translate</th>\n      <th>trans_src</th>\n      <th>trans_dest</th>\n    </tr>\n  </thead>\n  <tbody>\n    <tr>\n      <th>0</th>\n      <td>1365241433381339136</td>\n      <td>1365237858165026818</td>\n      <td>1.614334e+12</td>\n      <td>2021-02-26 17:04:57</td>\n      <td>+0700</td>\n      <td></td>\n      <td>https://t.co/jJeP4pFR6m</td>\n      <td>und</td>\n      <td>[]</td>\n      <td>[]</td>\n      <td>...</td>\n      <td></td>\n      <td></td>\n      <td></td>\n      <td></td>\n      <td></td>\n      <td>[]</td>\n      <td></td>\n      <td></td>\n      <td></td>\n      <td></td>\n    </tr>\n    <tr>\n      <th>1</th>\n      <td>1365237858165026818</td>\n      <td>1365237858165026818</td>\n      <td>1.614333e+12</td>\n      <td>2021-02-26 16:50:44</td>\n      <td>+0700</td>\n      <td></td>\n      <td>Do androids dream of electric cars?</td>\n      <td>en</td>\n      <td>[]</td>\n      <td>[]</td>\n      <td>...</td>\n      <td></td>\n      <td></td>\n      <td></td>\n      <td></td>\n      <td></td>\n      <td>[]</td>\n      <td></td>\n      <td></td>\n      <td></td>\n      <td></td>\n    </tr>\n    <tr>\n      <th>2</th>\n      <td>1365226460244561920</td>\n      <td>1364895495764721667</td>\n      <td>1.614330e+12</td>\n      <td>2021-02-26 16:05:27</td>\n      <td>+0700</td>\n      <td></td>\n      <td>@Sharvenium @flcnhvy 🤣🤣</td>\n      <td>und</td>\n      <td>[]</td>\n      <td>[]</td>\n      <td>...</td>\n      <td></td>\n      <td></td>\n      <td></td>\n      <td></td>\n      <td></td>\n      <td>[{'screen_name': 'Sharvenium', 'name': 'Sharve...</td>\n      <td></td>\n      <td></td>\n      <td></td>\n      <td></td>\n    </tr>\n    <tr>\n      <th>3</th>\n      <td>1365226011458174976</td>\n      <td>1364895495764721667</td>\n      <td>1.614330e+12</td>\n      <td>2021-02-26 16:03:40</td>\n      <td>+0700</td>\n      <td></td>\n      <td>@flcnhvy  https://t.co/VfQ72XyaiH</td>\n      <td>und</td>\n      <td>[]</td>\n      <td>[]</td>\n      <td>...</td>\n      <td></td>\n      <td></td>\n      <td></td>\n      <td></td>\n      <td></td>\n      <td>[]</td>\n      <td></td>\n      <td></td>\n      <td></td>\n      <td></td>\n    </tr>\n    <tr>\n      <th>4</th>\n      <td>1365221598505091072</td>\n      <td>1364950780424388616</td>\n      <td>1.614329e+12</td>\n      <td>2021-02-26 15:46:08</td>\n      <td>+0700</td>\n      <td></td>\n      <td>@konstructivizm Nothing if not discreet</td>\n      <td>en</td>\n      <td>[]</td>\n      <td>[]</td>\n      <td>...</td>\n      <td></td>\n      <td></td>\n      <td></td>\n      <td></td>\n      <td></td>\n      <td>[{'screen_name': 'konstructivizm', 'name': 'Bl...</td>\n      <td></td>\n      <td></td>\n      <td></td>\n      <td></td>\n    </tr>\n  </tbody>\n</table>\n<p>5 rows × 38 columns</p>\n</div>"
     },
     "metadata": {},
     "execution_count": 7
    }
   ],
   "source": [
    "# Look at the head of the DataFrame\n",
    "\n",
    "df.head()"
   ]
  },
  {
   "cell_type": "code",
   "execution_count": 18,
   "metadata": {},
   "outputs": [],
   "source": [
    "df.to_csv('elonfeb.csv', index=False)"
   ]
  },
  {
   "cell_type": "code",
   "execution_count": 8,
   "metadata": {},
   "outputs": [],
   "source": [
    "# Shorten the DataFrame to show only the data that is important to us (personal preference)\n",
    "\n",
    "dfshort = df[['conversation_id', 'date', 'tweet', 'link','nlikes', 'nreplies', 'nretweets']]"
   ]
  },
  {
   "cell_type": "code",
   "execution_count": 10,
   "metadata": {},
   "outputs": [
    {
     "output_type": "execute_result",
     "data": {
      "text/plain": [
       "       conversation_id                 date  \\\n",
       "0  1365237858165026818  2021-02-26 17:04:57   \n",
       "1  1365237858165026818  2021-02-26 16:50:44   \n",
       "2  1364895495764721667  2021-02-26 16:05:27   \n",
       "3  1364895495764721667  2021-02-26 16:03:40   \n",
       "4  1364950780424388616  2021-02-26 15:46:08   \n",
       "\n",
       "                                     tweet  \\\n",
       "0                  https://t.co/jJeP4pFR6m   \n",
       "1      Do androids dream of electric cars?   \n",
       "2                  @Sharvenium @flcnhvy 🤣🤣   \n",
       "3        @flcnhvy  https://t.co/VfQ72XyaiH   \n",
       "4  @konstructivizm Nothing if not discreet   \n",
       "\n",
       "                                                link  nlikes  nreplies  \\\n",
       "0  https://twitter.com/elonmusk/status/1365241433...  145246      4252   \n",
       "1  https://twitter.com/elonmusk/status/1365237858...  241307     14541   \n",
       "2  https://twitter.com/elonmusk/status/1365226460...    3305       194   \n",
       "3  https://twitter.com/elonmusk/status/1365226011...    3670       236   \n",
       "4  https://twitter.com/elonmusk/status/1365221598...    2132       159   \n",
       "\n",
       "   nretweets  \n",
       "0       7185  \n",
       "1      12645  \n",
       "2        261  \n",
       "3        228  \n",
       "4        104  "
      ],
      "text/html": "<div>\n<style scoped>\n    .dataframe tbody tr th:only-of-type {\n        vertical-align: middle;\n    }\n\n    .dataframe tbody tr th {\n        vertical-align: top;\n    }\n\n    .dataframe thead th {\n        text-align: right;\n    }\n</style>\n<table border=\"1\" class=\"dataframe\">\n  <thead>\n    <tr style=\"text-align: right;\">\n      <th></th>\n      <th>conversation_id</th>\n      <th>date</th>\n      <th>tweet</th>\n      <th>link</th>\n      <th>nlikes</th>\n      <th>nreplies</th>\n      <th>nretweets</th>\n    </tr>\n  </thead>\n  <tbody>\n    <tr>\n      <th>0</th>\n      <td>1365237858165026818</td>\n      <td>2021-02-26 17:04:57</td>\n      <td>https://t.co/jJeP4pFR6m</td>\n      <td>https://twitter.com/elonmusk/status/1365241433...</td>\n      <td>145246</td>\n      <td>4252</td>\n      <td>7185</td>\n    </tr>\n    <tr>\n      <th>1</th>\n      <td>1365237858165026818</td>\n      <td>2021-02-26 16:50:44</td>\n      <td>Do androids dream of electric cars?</td>\n      <td>https://twitter.com/elonmusk/status/1365237858...</td>\n      <td>241307</td>\n      <td>14541</td>\n      <td>12645</td>\n    </tr>\n    <tr>\n      <th>2</th>\n      <td>1364895495764721667</td>\n      <td>2021-02-26 16:05:27</td>\n      <td>@Sharvenium @flcnhvy 🤣🤣</td>\n      <td>https://twitter.com/elonmusk/status/1365226460...</td>\n      <td>3305</td>\n      <td>194</td>\n      <td>261</td>\n    </tr>\n    <tr>\n      <th>3</th>\n      <td>1364895495764721667</td>\n      <td>2021-02-26 16:03:40</td>\n      <td>@flcnhvy  https://t.co/VfQ72XyaiH</td>\n      <td>https://twitter.com/elonmusk/status/1365226011...</td>\n      <td>3670</td>\n      <td>236</td>\n      <td>228</td>\n    </tr>\n    <tr>\n      <th>4</th>\n      <td>1364950780424388616</td>\n      <td>2021-02-26 15:46:08</td>\n      <td>@konstructivizm Nothing if not discreet</td>\n      <td>https://twitter.com/elonmusk/status/1365221598...</td>\n      <td>2132</td>\n      <td>159</td>\n      <td>104</td>\n    </tr>\n  </tbody>\n</table>\n</div>"
     },
     "metadata": {},
     "execution_count": 10
    }
   ],
   "source": [
    "dfshort.head()"
   ]
  },
  {
   "cell_type": "code",
   "execution_count": null,
   "metadata": {},
   "outputs": [],
   "source": []
  }
 ]
}